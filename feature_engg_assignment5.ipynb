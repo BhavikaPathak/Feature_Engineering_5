{
 "cells": [
  {
   "cell_type": "markdown",
   "id": "51589bb5-d62d-4810-b58c-8474e2ab433c",
   "metadata": {},
   "source": [
    "# ANSWER 1 \n",
    "The Pearson correlation coefficient (also known as Pearson's r) is a statistical measure that quantifies the strength and direction of the linear relationship between two continuous variables. It ranges from -1 to 1, where -1 indicates a perfect negative linear relationship, 1 indicates a perfect positive linear relationship, and 0 indicates no linear relationship."
   ]
  },
  {
   "cell_type": "code",
   "execution_count": 19,
   "id": "81928d95-6198-4831-a734-2dfbdb9de054",
   "metadata": {},
   "outputs": [
    {
     "name": "stdout",
     "output_type": "stream",
     "text": [
      "Pearson Correlation Coefficient: 0.9863939238321439\n"
     ]
    }
   ],
   "source": [
    "import numpy as np\n",
    "time_studying = [5, 8, 4, 6, 7]\n",
    "exam_scores = [70, 85, 60, 75, 80]\n",
    "\n",
    "# Calculate the Pearson correlation coefficient\n",
    "pearson_corr_coeff = np.corrcoef(time_studying, exam_scores)[0, 1]\n",
    "\n",
    "print(\"Pearson Correlation Coefficient:\", pearson_corr_coeff)"
   ]
  },
  {
   "cell_type": "markdown",
   "id": "7dcbe6e3-ac55-4a92-8e43-fd316b4b1e93",
   "metadata": {},
   "source": [
    "Interpretation of the Result:\n",
    "The Pearson correlation coefficient quantifies the linear relationship between the amount of time spent studying and the final exam scores. The calculated Pearson correlation coefficient is approximately 0.9. This high positive value indicates a strong positive linear relationship. In this case, we can interpret it as follows: As the amount of time students spend studying increases, their final exam scores tend to increase as well."
   ]
  },
  {
   "cell_type": "markdown",
   "id": "67917420-5a54-4a2e-8385-d3f528214ab4",
   "metadata": {},
   "source": [
    "# ANSWER 2\n",
    "Spearman's rank correlation coefficient is a non-parametric measure of the strength and direction of the monotonic relationship between two variables. Unlike Pearson's correlation, it does not assume a linear relationship but instead considers the ranking of data points."
   ]
  },
  {
   "cell_type": "code",
   "execution_count": 20,
   "id": "2afa350e-6119-4346-9496-d4b086d939a5",
   "metadata": {},
   "outputs": [
    {
     "name": "stdout",
     "output_type": "stream",
     "text": [
      "Spearman's Rank Correlation Coefficient: 0.9746794344808963\n"
     ]
    }
   ],
   "source": [
    "from scipy.stats import spearmanr\n",
    "\n",
    "amount_of_sleep = [7, 6, 8, 5, 7]\n",
    "job_satisfaction = [8, 6, 9, 5, 7]\n",
    "\n",
    "# Calculate the Spearman's rank correlation coefficient and p-value\n",
    "spearman_corr_coeff, p_value = spearmanr(amount_of_sleep, job_satisfaction)\n",
    "\n",
    "print(\"Spearman's Rank Correlation Coefficient:\", spearman_corr_coeff)"
   ]
  },
  {
   "cell_type": "markdown",
   "id": "d70e4953-6e09-4215-a432-2f093c34a51d",
   "metadata": {},
   "source": [
    "Interpretation of the Result:\n",
    "The Spearman's rank correlation coefficient quantifies the monotonic relationship between the amount of sleep individuals get each night and their overall job satisfaction level.The calculated Spearman's rank correlation coefficient is approximately 0.8. This high positive value indicates a strong positive monotonic relationship. In this case,interpret it as follows: As the amount of sleep individuals get each night increases, their overall job satisfaction tends to increase as well (or vice versa, if the coefficient were negative)."
   ]
  },
  {
   "cell_type": "markdown",
   "id": "1e5ee79c-2cb4-401f-ba8f-e7926d8bca13",
   "metadata": {},
   "source": [
    "# ANSWER 3"
   ]
  },
  {
   "cell_type": "code",
   "execution_count": 21,
   "id": "4b44d5b2-c4fc-460d-9ead-9a174b7b0a01",
   "metadata": {},
   "outputs": [
    {
     "name": "stdout",
     "output_type": "stream",
     "text": [
      "Pearson Correlation Coefficient: 0.9721055154182217\n",
      "Spearman's Rank Correlation Coefficient: 0.964474621284662\n"
     ]
    }
   ],
   "source": [
    "hours_of_exercise = [3, 5, 4, 2, 6, 1, 3, 2, 4, 5, 2, 3, 4, 5, 1, 2, 3, 5, 4, 2,\n",
    "                     4, 5, 3, 1, 2, 4, 3, 2, 1, 3, 5, 4, 2, 3, 4, 5, 2, 1, 3, 2,]\n",
    "bmi = [22.1, 25.5, 23.8, 21.0, 26.3, 20.2, 22.6, 21.5, 24.0, 25.8, 20.8, 22.4, 24.5,\n",
    "       25.1, 20.0, 21.3, 23.2, 25.0, 23.5, 21.2, 23.8, 25.4, 22.7, 20.5, 21.9, 24.0,\n",
    "       22.9, 21.6, 20.1, 22.8, 25.2, 23.6, 20.7, 22.1, 24.3, 25.7, 23.0, 20.4, 22.2,21.4]\n",
    "pearson_corr_coeff = np.corrcoef(hours_of_exercise, bmi)[0,1]\n",
    "spearman_corr_coeff, _ = spearmanr(hours_of_exercise, bmi)\n",
    "\n",
    "print(\"Pearson Correlation Coefficient:\", pearson_corr_coeff)\n",
    "print(\"Spearman's Rank Correlation Coefficient:\", spearman_corr_coeff)"
   ]
  },
  {
   "cell_type": "markdown",
   "id": "e4fe2d69-a9dc-46c0-b392-5f55890593c5",
   "metadata": {},
   "source": [
    "Comparison of Results:\n",
    "The Pearson correlation coefficient and Spearman's rank correlation coefficient both assess the relationship between hours of exercise per week and BMI in the sample of adults.\n",
    "\n",
    "If the Pearson correlation coefficient is close to 1 or -1, it indicates a strong linear relationship between the variables.\n",
    "\n",
    "If the Spearman's rank correlation coefficient is close to 1 or -1, it indicates a strong monotonic relationship between the variables."
   ]
  },
  {
   "cell_type": "markdown",
   "id": "6a56a79f-d372-48e0-bed9-ffbcf4814f0f",
   "metadata": {},
   "source": [
    "# ANSWER 4"
   ]
  },
  {
   "cell_type": "code",
   "execution_count": 22,
   "id": "ace917b1-5548-4051-b4c9-0edc4ae45ec5",
   "metadata": {},
   "outputs": [
    {
     "name": "stdout",
     "output_type": "stream",
     "text": [
      "Pearson Correlation Coefficient: 0.7905250803569713\n"
     ]
    }
   ],
   "source": [
    "tv_hours_per_day = [3, 5, 4, 2, 6, 1, 3, 2, 4, 5, 2, 3, 4, 5, 1, 2, 3, 5, 4, 2,\n",
    "                    4, 5, 3, 1, 2, 4, 3, 2, 1, 3, 5, 4, 2, 3, 4, 5, 2, 1, 3, 2,\n",
    "                    1, 4, 5, 3, 1, 2, 4, 3, 2, 1]\n",
    "physical_activity_level = [2, 4, 3, 1, 5, 1, 3, 2, 4, 5, 1, 2, 3, 4, 1, 2, 3, 5, 3, 1,\n",
    "                           3, 4, 2, 1, 2, 4, 3, 2, 1, 3, 5, 4, 2, 3, 4, 5, 2, 1, 3, 2,\n",
    "                           4, 5, 3, 1, 2, 4, 3, 2, 1 ,2]\n",
    "pearson_corr_coeff = np.corrcoef(tv_hours_per_day, physical_activity_level)[0, 1]\n",
    "\n",
    "print(\"Pearson Correlation Coefficient:\", pearson_corr_coeff)"
   ]
  },
  {
   "cell_type": "markdown",
   "id": "78218924-bb40-4614-bbde-ff641aa497de",
   "metadata": {},
   "source": [
    "# ANSWER 5"
   ]
  },
  {
   "cell_type": "code",
   "execution_count": 23,
   "id": "64921c21-b5cb-4dec-bf04-c0d0fb382b8f",
   "metadata": {},
   "outputs": [
    {
     "name": "stdout",
     "output_type": "stream",
     "text": [
      "Spearman Correlation Coefficient: 0.8332380897952965\n"
     ]
    }
   ],
   "source": [
    "age = [25,42,37,19,31,28]\n",
    "Soft_drink_Preference = ['Coke','Pepsi','Mountain_dew','Coke','Pepsi','Coke']\n",
    "\n",
    "spearman_corr_coeff, p_value = spearmanr(age,Soft_drink_Preference)\n",
    "\n",
    "print(\"Spearman Correlation Coefficient:\", spearman_corr_coeff)"
   ]
  },
  {
   "cell_type": "markdown",
   "id": "b3f397f8-c822-49f3-81a5-bc7e96ab6d95",
   "metadata": {},
   "source": [
    "# ANSWER 6"
   ]
  },
  {
   "cell_type": "code",
   "execution_count": 24,
   "id": "74c63427-7f70-46f4-98ec-4c68123dbe8f",
   "metadata": {},
   "outputs": [
    {
     "name": "stdout",
     "output_type": "stream",
     "text": [
      "Pearson Correlation Coefficient: 0.974464258431324\n"
     ]
    }
   ],
   "source": [
    "sales_calls_per_day = [20, 15, 25, 30, 18, 22, 17, 28, 14, 19,\n",
    "                       23, 26, 21, 16, 24, 29, 27, 13, 31, 27,\n",
    "                       15, 22, 18, 19, 26, 25, 16, 30, 21, 24]\n",
    "sales_per_week = [150, 120, 200, 220, 140, 180, 130, 210, 110, 130,\n",
    "                  190, 210, 170, 130, 200, 230, 210, 100, 240, 200,\n",
    "                  110, 190, 150, 160, 220, 210, 140, 230, 160, 190]\n",
    "\n",
    "# Calculate the Pearson correlation coefficient\n",
    "pearson_corr_coeff = np.corrcoef(sales_calls_per_day, sales_per_week)[0, 1]\n",
    "\n",
    "print(\"Pearson Correlation Coefficient:\", pearson_corr_coeff)"
   ]
  },
  {
   "cell_type": "code",
   "execution_count": null,
   "id": "b557a1cb-ba8c-41ff-8a0b-3ee5bfbbf2a6",
   "metadata": {},
   "outputs": [],
   "source": []
  },
  {
   "cell_type": "code",
   "execution_count": null,
   "id": "ea35908d-3f8d-42d5-960a-9ef63de70749",
   "metadata": {},
   "outputs": [],
   "source": []
  },
  {
   "cell_type": "code",
   "execution_count": null,
   "id": "4c0351d5-7098-4b57-a2f1-7b13ff97302a",
   "metadata": {},
   "outputs": [],
   "source": []
  },
  {
   "cell_type": "code",
   "execution_count": null,
   "id": "79009a89-2c4d-4571-b7c2-3d87de93cdf0",
   "metadata": {},
   "outputs": [],
   "source": []
  }
 ],
 "metadata": {
  "kernelspec": {
   "display_name": "Python 3 (ipykernel)",
   "language": "python",
   "name": "python3"
  },
  "language_info": {
   "codemirror_mode": {
    "name": "ipython",
    "version": 3
   },
   "file_extension": ".py",
   "mimetype": "text/x-python",
   "name": "python",
   "nbconvert_exporter": "python",
   "pygments_lexer": "ipython3",
   "version": "3.10.8"
  }
 },
 "nbformat": 4,
 "nbformat_minor": 5
}
